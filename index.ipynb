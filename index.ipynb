{
 "cells": [
  {
   "cell_type": "code",
   "execution_count": null,
   "metadata": {},
   "outputs": [],
   "source": [
    "! pip install pygame"
   ]
  },
  {
   "cell_type": "code",
   "execution_count": null,
   "metadata": {},
   "outputs": [],
   "source": [
    "import pygame as pg\n",
    "from random import randrange"
   ]
  },
  {
   "cell_type": "code",
   "execution_count": 3,
   "metadata": {},
   "outputs": [],
   "source": [
    "WINDOW=1000\n",
    "TILE_SIZE = 50\n",
    "RANGE = (TILE_SIZE //2, WINDOW - TILE_SIZE // 2, TILE_SIZE)\n",
    "get_random_position = lambda: [randrange(*RANGE),randrange(*RANGE)]\n",
    "snake = pg.rect.Rect([0,0,TILE_SIZE - 2,TILE_SIZE - 2])\n",
    "snake.center = get_random_position()\n",
    "length = 1\n",
    "segments = [snake.copy()]\n",
    "snake_dir = (0, 0) \n",
    "time, time_step = 0,110\n",
    "food = snake.copy()\n",
    "food.center = get_random_position()\n",
    "screen = pg.display.set_mode([WINDOW]*2)\n",
    "clock = pg.time.Clock()\n",
    "dirs = {pg.K_w: 1, pg.K_s: 1, pg.K_a: 1, pg.K_d: 1}\n",
    "\n",
    "while True:\n",
    "    for event in pg.event.get():\n",
    "        if event.type == pg.QUIT:\n",
    "            exit()\n",
    "        if event.type == pg.KEYDOWN:\n",
    "            if event.key == pg.K_w and dirs[pg.K_w]:\n",
    "                snake_dir = (0,-TILE_SIZE)\n",
    "                dirs = {pg.K_w: 1, pg.K_s: 0, pg.K_a: 1, pg.K_d: 1}\n",
    "            if event.key == pg.K_s:\n",
    "                snake_dir = (0,TILE_SIZE)\n",
    "                dirs = {pg.K_w: 0, pg.K_s: 1, pg.K_a: 1, pg.K_d: 1}\n",
    "            if event.key == pg.K_a:\n",
    "                snake_dir = (-TILE_SIZE,0)\n",
    "                dirs = {pg.K_w: 1, pg.K_s: 1, pg.K_a: 1, pg.K_d: 0}\n",
    "            if event.key == pg.K_d:\n",
    "                snake_dir = (TILE_SIZE,0)\n",
    "                dirs = {pg.K_w: 1, pg.K_s: 1, pg.K_a: 0, pg.K_d: 1}\n",
    "    screen.fill('black')\n",
    "    # check borders and selfeating\n",
    "    self_eating = pg.Rect.collidelist(snake,segments[:-1]) != -1\n",
    "    if snake.left < 0 or snake.right > WINDOW or snake.top < 0 or snake.bottom > WINDOW:\n",
    "        snake.center, food.center = get_random_position(),get_random_position()\n",
    "        length, snake_dir =1,(0,0)\n",
    "        segments = [snake.copy()]\n",
    "    #check food\n",
    "    if snake.center == food.center:\n",
    "        food.center = get_random_position()\n",
    "        length += 1\n",
    "    #draw food\n",
    "    pg.draw.rect(screen,'red',food)\n",
    "    #draw snake\n",
    "    [pg.draw.rect(screen,'green',segment) for segment in segments]\n",
    "    # move snake\n",
    "    time_now = pg.time.get_ticks()\n",
    "    if time_now - time > time_step:\n",
    "        time = time_now\n",
    "        snake.move_ip(snake_dir)\n",
    "        segments.append(snake.copy())\n",
    "        segments = segments[-length:]\n",
    "    pg.display.flip()\n",
    "    clock.tick(60)"
   ]
  },
  {
   "cell_type": "code",
   "execution_count": null,
   "metadata": {},
   "outputs": [],
   "source": []
  }
 ],
 "metadata": {
  "kernelspec": {
   "display_name": "Python 3",
   "language": "python",
   "name": "python3"
  },
  "language_info": {
   "codemirror_mode": {
    "name": "ipython",
    "version": 3
   },
   "file_extension": ".py",
   "mimetype": "text/x-python",
   "name": "python",
   "nbconvert_exporter": "python",
   "pygments_lexer": "ipython3",
   "version": "3.12.0"
  }
 },
 "nbformat": 4,
 "nbformat_minor": 2
}
